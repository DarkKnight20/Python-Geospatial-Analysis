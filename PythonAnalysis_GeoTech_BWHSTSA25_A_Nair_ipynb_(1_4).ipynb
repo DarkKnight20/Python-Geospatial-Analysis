{
  "nbformat": 4,
  "nbformat_minor": 0,
  "metadata": {
    "colab": {
      "provenance": []
    },
    "kernelspec": {
      "name": "python3",
      "display_name": "Python 3"
    },
    "language_info": {
      "name": "python"
    }
  },
  "cells": [
    {
      "cell_type": "code",
      "execution_count": null,
      "metadata": {
        "id": "Cj7sgVxUyclI",
        "colab": {
          "base_uri": "https://localhost:8080/"
        },
        "outputId": "11cb872b-960f-48cd-8dd2-87ec6bdb4a1a"
      },
      "outputs": [
        {
          "output_type": "stream",
          "name": "stdout",
          "text": [
            "Requirement already satisfied: pandas in /usr/local/lib/python3.11/dist-packages (2.2.2)\n",
            "Requirement already satisfied: geopandas in /usr/local/lib/python3.11/dist-packages (1.0.1)\n",
            "Requirement already satisfied: matplotlib in /usr/local/lib/python3.11/dist-packages (3.10.0)\n",
            "Requirement already satisfied: folium in /usr/local/lib/python3.11/dist-packages (0.19.7)\n",
            "Requirement already satisfied: numpy>=1.23.2 in /usr/local/lib/python3.11/dist-packages (from pandas) (2.0.2)\n",
            "Requirement already satisfied: python-dateutil>=2.8.2 in /usr/local/lib/python3.11/dist-packages (from pandas) (2.9.0.post0)\n",
            "Requirement already satisfied: pytz>=2020.1 in /usr/local/lib/python3.11/dist-packages (from pandas) (2025.2)\n",
            "Requirement already satisfied: tzdata>=2022.7 in /usr/local/lib/python3.11/dist-packages (from pandas) (2025.2)\n",
            "Requirement already satisfied: pyogrio>=0.7.2 in /usr/local/lib/python3.11/dist-packages (from geopandas) (0.11.0)\n",
            "Requirement already satisfied: packaging in /usr/local/lib/python3.11/dist-packages (from geopandas) (24.2)\n",
            "Requirement already satisfied: pyproj>=3.3.0 in /usr/local/lib/python3.11/dist-packages (from geopandas) (3.7.1)\n",
            "Requirement already satisfied: shapely>=2.0.0 in /usr/local/lib/python3.11/dist-packages (from geopandas) (2.1.1)\n",
            "Requirement already satisfied: contourpy>=1.0.1 in /usr/local/lib/python3.11/dist-packages (from matplotlib) (1.3.2)\n",
            "Requirement already satisfied: cycler>=0.10 in /usr/local/lib/python3.11/dist-packages (from matplotlib) (0.12.1)\n",
            "Requirement already satisfied: fonttools>=4.22.0 in /usr/local/lib/python3.11/dist-packages (from matplotlib) (4.58.4)\n",
            "Requirement already satisfied: kiwisolver>=1.3.1 in /usr/local/lib/python3.11/dist-packages (from matplotlib) (1.4.8)\n",
            "Requirement already satisfied: pillow>=8 in /usr/local/lib/python3.11/dist-packages (from matplotlib) (11.2.1)\n",
            "Requirement already satisfied: pyparsing>=2.3.1 in /usr/local/lib/python3.11/dist-packages (from matplotlib) (3.2.3)\n",
            "Requirement already satisfied: branca>=0.6.0 in /usr/local/lib/python3.11/dist-packages (from folium) (0.8.1)\n",
            "Requirement already satisfied: jinja2>=2.9 in /usr/local/lib/python3.11/dist-packages (from folium) (3.1.6)\n",
            "Requirement already satisfied: requests in /usr/local/lib/python3.11/dist-packages (from folium) (2.32.3)\n",
            "Requirement already satisfied: xyzservices in /usr/local/lib/python3.11/dist-packages (from folium) (2025.4.0)\n",
            "Requirement already satisfied: MarkupSafe>=2.0 in /usr/local/lib/python3.11/dist-packages (from jinja2>=2.9->folium) (3.0.2)\n",
            "Requirement already satisfied: certifi in /usr/local/lib/python3.11/dist-packages (from pyogrio>=0.7.2->geopandas) (2025.6.15)\n",
            "Requirement already satisfied: six>=1.5 in /usr/local/lib/python3.11/dist-packages (from python-dateutil>=2.8.2->pandas) (1.17.0)\n",
            "Requirement already satisfied: charset-normalizer<4,>=2 in /usr/local/lib/python3.11/dist-packages (from requests->folium) (3.4.2)\n",
            "Requirement already satisfied: idna<4,>=2.5 in /usr/local/lib/python3.11/dist-packages (from requests->folium) (3.10)\n",
            "Requirement already satisfied: urllib3<3,>=1.21.1 in /usr/local/lib/python3.11/dist-packages (from requests->folium) (2.4.0)\n"
          ]
        }
      ],
      "source": [
        "#Installing required libraries\n",
        "!pip install pandas geopandas matplotlib folium\n",
        "\n",
        "import pandas as pd\n",
        "import geopandas as gpd\n",
        "import matplotlib.pyplot as plt\n",
        "import folium"
      ]
    },
    {
      "cell_type": "code",
      "source": [
        "#Loading GeoJSON Files\n",
        "wards = gpd.read_file(\"Wards_from_2022.geojson\") #Loads file with D.C. Wards Boundaries\n",
        "flood_risk = gpd.read_file(\"Floodplain_Base_Flood_Elevations.geojson\") #Loads flood elevation file\n",
        "storm_risk_areas = gpd.read_file(\"Storm_Surge_Risk_Areas.geojson\") #Loads storm risk area file\n",
        "\n",
        "#Checking data and outputting columns\n",
        "print(\"Wards Columns:\", wards.columns)\n",
        "print(\"Flood Risk Columns:\", flood_risk.columns)\n",
        "print(\"Storm Risk Area Columns\", storm_risk_areas.columns)"
      ],
      "metadata": {
        "colab": {
          "base_uri": "https://localhost:8080/"
        },
        "id": "M8DAI5fImuP8",
        "outputId": "4c6c4f5f-21fe-45e5-f2a3-00f931dc3021"
      },
      "execution_count": null,
      "outputs": [
        {
          "output_type": "stream",
          "name": "stdout",
          "text": [
            "Wards Columns: Index(['WARD', 'NAME', 'REP_NAME', 'WEB_URL', 'REP_PHONE', 'REP_EMAIL',\n",
            "       'REP_OFFICE', 'WARD_ID', 'LABEL', 'STUSAB', 'SUMLEV', 'GEOID',\n",
            "       'GEOCODE', 'STATE', 'OBJECTID', 'GLOBALID', 'CREATED_DATE',\n",
            "       'LAST_EDITED_DATE', 'SHAPEAREA', 'SHAPELEN', 'geometry'],\n",
            "      dtype='object')\n",
            "Flood Risk Columns: Index(['BFE_LN_ID', 'ELEV', 'LEN_UNIT', 'V_DATUM', 'SOURCE_CIT', 'DFIRM_ID',\n",
            "       'VERSION_ID', 'GFID', 'GIS_ID', 'GLOBALID', 'CREATED', 'EDITED',\n",
            "       'OBJECTID', 'SHAPELEN', 'geometry'],\n",
            "      dtype='object')\n",
            "Storm Risk Area Columns Index(['HES_ZONE', 'CONTOURLEN', 'GIS_ID', 'TARGET_FID', 'JOIN_COUNT',\n",
            "       'GLOBALID', 'CREATED', 'EDITED', 'OBJECTID', 'SHAPEAREA', 'SHAPELEN',\n",
            "       'geometry'],\n",
            "      dtype='object')\n"
          ]
        }
      ]
    },
    {
      "cell_type": "code",
      "source": [
        "#Clipping flood zones to D.C. Wards\n",
        "flood_in_wards = gpd.overlay(wards, flood_risk, how ='intersection')\n",
        "\n",
        "#Calculating flood area per D.C. Ward\n",
        "flood_in_wards['flood_area'] = flood_in_wards.geometry.area\n",
        "flood_by_ward = flood_in_wards.groupby('WARD')['flood_area'].sum().reset_index()\n"
      ],
      "metadata": {
        "colab": {
          "base_uri": "https://localhost:8080/"
        },
        "id": "he35lXXJnshJ",
        "outputId": "d1ae8731-a869-44b8-be84-f1add19f4b07"
      },
      "execution_count": null,
      "outputs": [
        {
          "output_type": "stream",
          "name": "stderr",
          "text": [
            "/tmp/ipython-input-12-3018378247.py:2: UserWarning: `keep_geom_type=True` in overlay resulted in 527 dropped geometries of different geometry types than df1 has. Set `keep_geom_type=False` to retain all geometries\n",
            "  flood_in_wards = gpd.overlay(wards, flood_risk, how ='intersection')\n",
            "/tmp/ipython-input-12-3018378247.py:5: UserWarning: Geometry is in a geographic CRS. Results from 'area' are likely incorrect. Use 'GeoSeries.to_crs()' to re-project geometries to a projected CRS before this operation.\n",
            "\n",
            "  flood_in_wards['flood_area'] = flood_in_wards.geometry.area\n"
          ]
        }
      ]
    },
    {
      "cell_type": "code",
      "source": [
        "#Merging original wards to find the total area\n",
        "wards['total_area'] = wards.geometry.area\n",
        "result = wards.merge(flood_by_ward, on ='WARD', how ='left')\n",
        "result['flood_pct'] = (result['flood_area'] / result['total_area']) * 100\n",
        "\n",
        "#Sorting by most flood-prone/at-risk wards\n",
        "result.sort_values('flood_pct', ascending = False, inplace = True)\n",
        "print(result[['WARD', 'flood_pct']])"
      ],
      "metadata": {
        "colab": {
          "base_uri": "https://localhost:8080/"
        },
        "id": "WTmTW3TkpQTM",
        "outputId": "6edd5fbf-067a-47cb-dd06-1ac68215a79a"
      },
      "execution_count": null,
      "outputs": [
        {
          "output_type": "stream",
          "name": "stdout",
          "text": [
            "   WARD  flood_pct\n",
            "0     8        NaN\n",
            "1     6        NaN\n",
            "2     7        NaN\n",
            "3     2        NaN\n",
            "4     1        NaN\n",
            "5     5        NaN\n",
            "6     3        NaN\n",
            "7     4        NaN\n"
          ]
        },
        {
          "output_type": "stream",
          "name": "stderr",
          "text": [
            "/tmp/ipython-input-13-39371388.py:2: UserWarning: Geometry is in a geographic CRS. Results from 'area' are likely incorrect. Use 'GeoSeries.to_crs()' to re-project geometries to a projected CRS before this operation.\n",
            "\n",
            "  wards['total_area'] = wards.geometry.area\n"
          ]
        }
      ]
    },
    {
      "cell_type": "code",
      "source": [
        "#Visualization\n",
        "#fig, ax = plt.subplots(figsize = (10, 6))\n",
        "#result.plot(column = 'flood_pct', legend = True, ax = ax, cmap = 'Reds', legend_kwds = {'label': '% Area at Flood Risk'})\n",
        "#plt.title('Flood Risk by D.C. Ward')\n",
        "#plt.show()\n",
        "\n",
        "#Interactive Map\n",
        "m = folium.Map(location = [38.895, -77.0369], zoom_start = 12)\n",
        "folium.GeoJson(result[result['WARD'].isin(['7', '8'])], style_function = lambda x: {'fillColor': 'red' if x['properties']['flood_pct'] > 20 else 'orange'}).add_to(m)\n",
        "m.save('flood_map.html')\n",
        "m"
      ],
      "metadata": {
        "colab": {
          "base_uri": "https://localhost:8080/",
          "height": 626
        },
        "id": "kglOcxqTqyqs",
        "outputId": "de0cfb79-ba8f-40de-adbc-f4a6b69975dd"
      },
      "execution_count": null,
      "outputs": [
        {
          "output_type": "execute_result",
          "data": {
            "text/plain": [
              "<folium.folium.Map at 0x7f62e6677c10>"
            ],
            "text/html": [
              "<div style=\"width:100%;\"><div style=\"position:relative;width:100%;height:0;padding-bottom:60%;\"><span style=\"color:#565656\">Make this Notebook Trusted to load map: File -> Trust Notebook</span><iframe srcdoc=\"&lt;!DOCTYPE html&gt;\n",
              "&lt;html&gt;\n",
              "&lt;head&gt;\n",
              "    \n",
              "    &lt;meta http-equiv=&quot;content-type&quot; content=&quot;text/html; charset=UTF-8&quot; /&gt;\n",
              "    &lt;script src=&quot;https://cdn.jsdelivr.net/npm/leaflet@1.9.3/dist/leaflet.js&quot;&gt;&lt;/script&gt;\n",
              "    &lt;script src=&quot;https://code.jquery.com/jquery-3.7.1.min.js&quot;&gt;&lt;/script&gt;\n",
              "    &lt;script src=&quot;https://cdn.jsdelivr.net/npm/bootstrap@5.2.2/dist/js/bootstrap.bundle.min.js&quot;&gt;&lt;/script&gt;\n",
              "    &lt;script src=&quot;https://cdnjs.cloudflare.com/ajax/libs/Leaflet.awesome-markers/2.0.2/leaflet.awesome-markers.js&quot;&gt;&lt;/script&gt;\n",
              "    &lt;link rel=&quot;stylesheet&quot; href=&quot;https://cdn.jsdelivr.net/npm/leaflet@1.9.3/dist/leaflet.css&quot;/&gt;\n",
              "    &lt;link rel=&quot;stylesheet&quot; href=&quot;https://cdn.jsdelivr.net/npm/bootstrap@5.2.2/dist/css/bootstrap.min.css&quot;/&gt;\n",
              "    &lt;link rel=&quot;stylesheet&quot; href=&quot;https://netdna.bootstrapcdn.com/bootstrap/3.0.0/css/bootstrap-glyphicons.css&quot;/&gt;\n",
              "    &lt;link rel=&quot;stylesheet&quot; href=&quot;https://cdn.jsdelivr.net/npm/@fortawesome/fontawesome-free@6.2.0/css/all.min.css&quot;/&gt;\n",
              "    &lt;link rel=&quot;stylesheet&quot; href=&quot;https://cdnjs.cloudflare.com/ajax/libs/Leaflet.awesome-markers/2.0.2/leaflet.awesome-markers.css&quot;/&gt;\n",
              "    &lt;link rel=&quot;stylesheet&quot; href=&quot;https://cdn.jsdelivr.net/gh/python-visualization/folium/folium/templates/leaflet.awesome.rotate.min.css&quot;/&gt;\n",
              "    \n",
              "            &lt;meta name=&quot;viewport&quot; content=&quot;width=device-width,\n",
              "                initial-scale=1.0, maximum-scale=1.0, user-scalable=no&quot; /&gt;\n",
              "            &lt;style&gt;\n",
              "                #map_d605f5e5b1c0573f0c794abc48b242b5 {\n",
              "                    position: relative;\n",
              "                    width: 100.0%;\n",
              "                    height: 100.0%;\n",
              "                    left: 0.0%;\n",
              "                    top: 0.0%;\n",
              "                }\n",
              "                .leaflet-container { font-size: 1rem; }\n",
              "            &lt;/style&gt;\n",
              "\n",
              "            &lt;style&gt;html, body {\n",
              "                width: 100%;\n",
              "                height: 100%;\n",
              "                margin: 0;\n",
              "                padding: 0;\n",
              "            }\n",
              "            &lt;/style&gt;\n",
              "\n",
              "            &lt;style&gt;#map {\n",
              "                position:absolute;\n",
              "                top:0;\n",
              "                bottom:0;\n",
              "                right:0;\n",
              "                left:0;\n",
              "                }\n",
              "            &lt;/style&gt;\n",
              "\n",
              "            &lt;script&gt;\n",
              "                L_NO_TOUCH = false;\n",
              "                L_DISABLE_3D = false;\n",
              "            &lt;/script&gt;\n",
              "\n",
              "        \n",
              "&lt;/head&gt;\n",
              "&lt;body&gt;\n",
              "    \n",
              "    \n",
              "            &lt;div class=&quot;folium-map&quot; id=&quot;map_d605f5e5b1c0573f0c794abc48b242b5&quot; &gt;&lt;/div&gt;\n",
              "        \n",
              "&lt;/body&gt;\n",
              "&lt;script&gt;\n",
              "    \n",
              "    \n",
              "            var map_d605f5e5b1c0573f0c794abc48b242b5 = L.map(\n",
              "                &quot;map_d605f5e5b1c0573f0c794abc48b242b5&quot;,\n",
              "                {\n",
              "                    center: [38.895, -77.0369],\n",
              "                    crs: L.CRS.EPSG3857,\n",
              "                    ...{\n",
              "  &quot;zoom&quot;: 12,\n",
              "  &quot;zoomControl&quot;: true,\n",
              "  &quot;preferCanvas&quot;: false,\n",
              "}\n",
              "\n",
              "                }\n",
              "            );\n",
              "\n",
              "            \n",
              "\n",
              "        \n",
              "    \n",
              "            var tile_layer_bcc9c183541bed617bfa0aac0da968c8 = L.tileLayer(\n",
              "                &quot;https://tile.openstreetmap.org/{z}/{x}/{y}.png&quot;,\n",
              "                {\n",
              "  &quot;minZoom&quot;: 0,\n",
              "  &quot;maxZoom&quot;: 19,\n",
              "  &quot;maxNativeZoom&quot;: 19,\n",
              "  &quot;noWrap&quot;: false,\n",
              "  &quot;attribution&quot;: &quot;\\u0026copy; \\u003ca href=\\&quot;https://www.openstreetmap.org/copyright\\&quot;\\u003eOpenStreetMap\\u003c/a\\u003e contributors&quot;,\n",
              "  &quot;subdomains&quot;: &quot;abc&quot;,\n",
              "  &quot;detectRetina&quot;: false,\n",
              "  &quot;tms&quot;: false,\n",
              "  &quot;opacity&quot;: 1,\n",
              "}\n",
              "\n",
              "            );\n",
              "        \n",
              "    \n",
              "            tile_layer_bcc9c183541bed617bfa0aac0da968c8.addTo(map_d605f5e5b1c0573f0c794abc48b242b5);\n",
              "        \n",
              "    \n",
              "        function geo_json_0dcd6e69d39da443deb8f2e86bbfe886_styler(feature) {\n",
              "            switch(feature.id) {\n",
              "                default:\n",
              "                    return ;\n",
              "            }\n",
              "        }\n",
              "\n",
              "        function geo_json_0dcd6e69d39da443deb8f2e86bbfe886_onEachFeature(feature, layer) {\n",
              "\n",
              "            layer.on({\n",
              "            });\n",
              "        };\n",
              "        var geo_json_0dcd6e69d39da443deb8f2e86bbfe886 = L.geoJson(null, {\n",
              "                onEachFeature: geo_json_0dcd6e69d39da443deb8f2e86bbfe886_onEachFeature,\n",
              "            \n",
              "                style: geo_json_0dcd6e69d39da443deb8f2e86bbfe886_styler,\n",
              "            ...{\n",
              "}\n",
              "        });\n",
              "\n",
              "        function geo_json_0dcd6e69d39da443deb8f2e86bbfe886_add (data) {\n",
              "            geo_json_0dcd6e69d39da443deb8f2e86bbfe886\n",
              "                .addData(data);\n",
              "        }\n",
              "            geo_json_0dcd6e69d39da443deb8f2e86bbfe886_add({&quot;bbox&quot;: [NaN, NaN, NaN, NaN], &quot;features&quot;: [], &quot;type&quot;: &quot;FeatureCollection&quot;});\n",
              "\n",
              "        \n",
              "    \n",
              "            geo_json_0dcd6e69d39da443deb8f2e86bbfe886.addTo(map_d605f5e5b1c0573f0c794abc48b242b5);\n",
              "        \n",
              "    \n",
              "            tile_layer_bcc9c183541bed617bfa0aac0da968c8.addTo(map_d605f5e5b1c0573f0c794abc48b242b5);\n",
              "        \n",
              "    \n",
              "            geo_json_0dcd6e69d39da443deb8f2e86bbfe886.addTo(map_d605f5e5b1c0573f0c794abc48b242b5);\n",
              "        \n",
              "&lt;/script&gt;\n",
              "&lt;/html&gt;\" style=\"position:absolute;width:100%;height:100%;left:0;top:0;border:none !important;\" allowfullscreen webkitallowfullscreen mozallowfullscreen></iframe></div></div>"
            ]
          },
          "metadata": {},
          "execution_count": 14
        }
      ]
    }
  ]
}